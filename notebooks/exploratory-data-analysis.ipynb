{
 "cells": [
  {
   "cell_type": "code",
   "id": "initial_id",
   "metadata": {
    "collapsed": true,
    "ExecuteTime": {
     "end_time": "2025-02-24T19:14:39.117310Z",
     "start_time": "2025-02-24T19:14:39.109808Z"
    }
   },
   "source": "import pandas as pd",
   "outputs": [],
   "execution_count": 2
  },
  {
   "metadata": {
    "ExecuteTime": {
     "end_time": "2025-02-24T19:21:54.703124Z",
     "start_time": "2025-02-24T19:21:54.454038Z"
    }
   },
   "cell_type": "code",
   "source": [
    "raw_data_path = '..\\\\data\\\\fix-production-plan.csv'  # orijinal veri\n",
    "df = pd.read_csv(raw_data_path)\n",
    "df"
   ],
   "id": "e7df481ca9680162",
   "outputs": [
    {
     "data": {
      "text/plain": [
       "      itn_inner  itn_outer  itn_thickness sale_deliverydate  sale_count  \\\n",
       "0          17.0       25.0           0.75          2025-W15        8000   \n",
       "1          17.0       25.0           0.75          2025-W01        7500   \n",
       "2          38.0       51.5           2.00          2024-W45        2000   \n",
       "3          13.0       27.0           0.30          2024-W10       15000   \n",
       "4          13.0       45.0           8.00          2024-W16        2100   \n",
       "...         ...        ...            ...               ...         ...   \n",
       "6775        5.2       15.0           2.00          2023-W52       10000   \n",
       "6776       12.2       23.0           1.50          2023-W42       11000   \n",
       "6777       17.0       50.0           6.00          2023-W52        2000   \n",
       "6778        8.5       20.0           5.50          2023-W52        5000   \n",
       "6779       31.0       71.0           4.00          2023-W42        1000   \n",
       "\n",
       "                       stnd_name  \n",
       "0                         SWT671  \n",
       "1                         SWT671  \n",
       "2                         SWT671  \n",
       "3     Surface: Zinc plated 20 µm  \n",
       "4                        St50-2K  \n",
       "...                          ...  \n",
       "6775                         NaN  \n",
       "6776                         NaN  \n",
       "6777                         NaN  \n",
       "6778                         NaN  \n",
       "6779                         NaN  \n",
       "\n",
       "[6780 rows x 6 columns]"
      ],
      "text/html": [
       "<div>\n",
       "<style scoped>\n",
       "    .dataframe tbody tr th:only-of-type {\n",
       "        vertical-align: middle;\n",
       "    }\n",
       "\n",
       "    .dataframe tbody tr th {\n",
       "        vertical-align: top;\n",
       "    }\n",
       "\n",
       "    .dataframe thead th {\n",
       "        text-align: right;\n",
       "    }\n",
       "</style>\n",
       "<table border=\"1\" class=\"dataframe\">\n",
       "  <thead>\n",
       "    <tr style=\"text-align: right;\">\n",
       "      <th></th>\n",
       "      <th>itn_inner</th>\n",
       "      <th>itn_outer</th>\n",
       "      <th>itn_thickness</th>\n",
       "      <th>sale_deliverydate</th>\n",
       "      <th>sale_count</th>\n",
       "      <th>stnd_name</th>\n",
       "    </tr>\n",
       "  </thead>\n",
       "  <tbody>\n",
       "    <tr>\n",
       "      <th>0</th>\n",
       "      <td>17.0</td>\n",
       "      <td>25.0</td>\n",
       "      <td>0.75</td>\n",
       "      <td>2025-W15</td>\n",
       "      <td>8000</td>\n",
       "      <td>SWT671</td>\n",
       "    </tr>\n",
       "    <tr>\n",
       "      <th>1</th>\n",
       "      <td>17.0</td>\n",
       "      <td>25.0</td>\n",
       "      <td>0.75</td>\n",
       "      <td>2025-W01</td>\n",
       "      <td>7500</td>\n",
       "      <td>SWT671</td>\n",
       "    </tr>\n",
       "    <tr>\n",
       "      <th>2</th>\n",
       "      <td>38.0</td>\n",
       "      <td>51.5</td>\n",
       "      <td>2.00</td>\n",
       "      <td>2024-W45</td>\n",
       "      <td>2000</td>\n",
       "      <td>SWT671</td>\n",
       "    </tr>\n",
       "    <tr>\n",
       "      <th>3</th>\n",
       "      <td>13.0</td>\n",
       "      <td>27.0</td>\n",
       "      <td>0.30</td>\n",
       "      <td>2024-W10</td>\n",
       "      <td>15000</td>\n",
       "      <td>Surface: Zinc plated 20 µm</td>\n",
       "    </tr>\n",
       "    <tr>\n",
       "      <th>4</th>\n",
       "      <td>13.0</td>\n",
       "      <td>45.0</td>\n",
       "      <td>8.00</td>\n",
       "      <td>2024-W16</td>\n",
       "      <td>2100</td>\n",
       "      <td>St50-2K</td>\n",
       "    </tr>\n",
       "    <tr>\n",
       "      <th>...</th>\n",
       "      <td>...</td>\n",
       "      <td>...</td>\n",
       "      <td>...</td>\n",
       "      <td>...</td>\n",
       "      <td>...</td>\n",
       "      <td>...</td>\n",
       "    </tr>\n",
       "    <tr>\n",
       "      <th>6775</th>\n",
       "      <td>5.2</td>\n",
       "      <td>15.0</td>\n",
       "      <td>2.00</td>\n",
       "      <td>2023-W52</td>\n",
       "      <td>10000</td>\n",
       "      <td>NaN</td>\n",
       "    </tr>\n",
       "    <tr>\n",
       "      <th>6776</th>\n",
       "      <td>12.2</td>\n",
       "      <td>23.0</td>\n",
       "      <td>1.50</td>\n",
       "      <td>2023-W42</td>\n",
       "      <td>11000</td>\n",
       "      <td>NaN</td>\n",
       "    </tr>\n",
       "    <tr>\n",
       "      <th>6777</th>\n",
       "      <td>17.0</td>\n",
       "      <td>50.0</td>\n",
       "      <td>6.00</td>\n",
       "      <td>2023-W52</td>\n",
       "      <td>2000</td>\n",
       "      <td>NaN</td>\n",
       "    </tr>\n",
       "    <tr>\n",
       "      <th>6778</th>\n",
       "      <td>8.5</td>\n",
       "      <td>20.0</td>\n",
       "      <td>5.50</td>\n",
       "      <td>2023-W52</td>\n",
       "      <td>5000</td>\n",
       "      <td>NaN</td>\n",
       "    </tr>\n",
       "    <tr>\n",
       "      <th>6779</th>\n",
       "      <td>31.0</td>\n",
       "      <td>71.0</td>\n",
       "      <td>4.00</td>\n",
       "      <td>2023-W42</td>\n",
       "      <td>1000</td>\n",
       "      <td>NaN</td>\n",
       "    </tr>\n",
       "  </tbody>\n",
       "</table>\n",
       "<p>6780 rows × 6 columns</p>\n",
       "</div>"
      ]
     },
     "execution_count": 6,
     "metadata": {},
     "output_type": "execute_result"
    }
   ],
   "execution_count": 6
  },
  {
   "metadata": {
    "ExecuteTime": {
     "end_time": "2025-02-24T19:22:14.148795Z",
     "start_time": "2025-02-24T19:22:14.131851Z"
    }
   },
   "cell_type": "code",
   "source": "df.head()",
   "id": "860aa855d249ffa8",
   "outputs": [
    {
     "data": {
      "text/plain": [
       "   itn_inner  itn_outer  itn_thickness sale_deliverydate  sale_count  \\\n",
       "0       17.0       25.0           0.75          2025-W15        8000   \n",
       "1       17.0       25.0           0.75          2025-W01        7500   \n",
       "2       38.0       51.5           2.00          2024-W45        2000   \n",
       "3       13.0       27.0           0.30          2024-W10       15000   \n",
       "4       13.0       45.0           8.00          2024-W16        2100   \n",
       "\n",
       "                    stnd_name  \n",
       "0                      SWT671  \n",
       "1                      SWT671  \n",
       "2                      SWT671  \n",
       "3  Surface: Zinc plated 20 µm  \n",
       "4                     St50-2K  "
      ],
      "text/html": [
       "<div>\n",
       "<style scoped>\n",
       "    .dataframe tbody tr th:only-of-type {\n",
       "        vertical-align: middle;\n",
       "    }\n",
       "\n",
       "    .dataframe tbody tr th {\n",
       "        vertical-align: top;\n",
       "    }\n",
       "\n",
       "    .dataframe thead th {\n",
       "        text-align: right;\n",
       "    }\n",
       "</style>\n",
       "<table border=\"1\" class=\"dataframe\">\n",
       "  <thead>\n",
       "    <tr style=\"text-align: right;\">\n",
       "      <th></th>\n",
       "      <th>itn_inner</th>\n",
       "      <th>itn_outer</th>\n",
       "      <th>itn_thickness</th>\n",
       "      <th>sale_deliverydate</th>\n",
       "      <th>sale_count</th>\n",
       "      <th>stnd_name</th>\n",
       "    </tr>\n",
       "  </thead>\n",
       "  <tbody>\n",
       "    <tr>\n",
       "      <th>0</th>\n",
       "      <td>17.0</td>\n",
       "      <td>25.0</td>\n",
       "      <td>0.75</td>\n",
       "      <td>2025-W15</td>\n",
       "      <td>8000</td>\n",
       "      <td>SWT671</td>\n",
       "    </tr>\n",
       "    <tr>\n",
       "      <th>1</th>\n",
       "      <td>17.0</td>\n",
       "      <td>25.0</td>\n",
       "      <td>0.75</td>\n",
       "      <td>2025-W01</td>\n",
       "      <td>7500</td>\n",
       "      <td>SWT671</td>\n",
       "    </tr>\n",
       "    <tr>\n",
       "      <th>2</th>\n",
       "      <td>38.0</td>\n",
       "      <td>51.5</td>\n",
       "      <td>2.00</td>\n",
       "      <td>2024-W45</td>\n",
       "      <td>2000</td>\n",
       "      <td>SWT671</td>\n",
       "    </tr>\n",
       "    <tr>\n",
       "      <th>3</th>\n",
       "      <td>13.0</td>\n",
       "      <td>27.0</td>\n",
       "      <td>0.30</td>\n",
       "      <td>2024-W10</td>\n",
       "      <td>15000</td>\n",
       "      <td>Surface: Zinc plated 20 µm</td>\n",
       "    </tr>\n",
       "    <tr>\n",
       "      <th>4</th>\n",
       "      <td>13.0</td>\n",
       "      <td>45.0</td>\n",
       "      <td>8.00</td>\n",
       "      <td>2024-W16</td>\n",
       "      <td>2100</td>\n",
       "      <td>St50-2K</td>\n",
       "    </tr>\n",
       "  </tbody>\n",
       "</table>\n",
       "</div>"
      ]
     },
     "execution_count": 7,
     "metadata": {},
     "output_type": "execute_result"
    }
   ],
   "execution_count": 7
  },
  {
   "metadata": {
    "ExecuteTime": {
     "end_time": "2025-02-24T19:24:03.663511Z",
     "start_time": "2025-02-24T19:24:03.645354Z"
    }
   },
   "cell_type": "code",
   "source": "df.info()",
   "id": "d65a502ab55cf58c",
   "outputs": [
    {
     "name": "stdout",
     "output_type": "stream",
     "text": [
      "<class 'pandas.core.frame.DataFrame'>\n",
      "RangeIndex: 6780 entries, 0 to 6779\n",
      "Data columns (total 6 columns):\n",
      " #   Column             Non-Null Count  Dtype  \n",
      "---  ------             --------------  -----  \n",
      " 0   itn_inner          6762 non-null   float64\n",
      " 1   itn_outer          6780 non-null   float64\n",
      " 2   itn_thickness      6780 non-null   float64\n",
      " 3   sale_deliverydate  6780 non-null   object \n",
      " 4   sale_count         6780 non-null   int64  \n",
      " 5   stnd_name          6566 non-null   object \n",
      "dtypes: float64(3), int64(1), object(2)\n",
      "memory usage: 317.9+ KB\n"
     ]
    }
   ],
   "execution_count": 9
  },
  {
   "metadata": {
    "ExecuteTime": {
     "end_time": "2025-02-24T19:24:15.201949Z",
     "start_time": "2025-02-24T19:24:15.189827Z"
    }
   },
   "cell_type": "code",
   "source": "df.isnull().sum()",
   "id": "bd29a2758f9f9000",
   "outputs": [
    {
     "data": {
      "text/plain": [
       "itn_inner             18\n",
       "itn_outer              0\n",
       "itn_thickness          0\n",
       "sale_deliverydate      0\n",
       "sale_count             0\n",
       "stnd_name            214\n",
       "dtype: int64"
      ]
     },
     "execution_count": 10,
     "metadata": {},
     "output_type": "execute_result"
    }
   ],
   "execution_count": 10
  },
  {
   "metadata": {},
   "cell_type": "code",
   "outputs": [],
   "execution_count": null,
   "source": "",
   "id": "81685f54789d2dbc"
  }
 ],
 "metadata": {
  "kernelspec": {
   "display_name": "Python 3",
   "language": "python",
   "name": "python3"
  },
  "language_info": {
   "codemirror_mode": {
    "name": "ipython",
    "version": 2
   },
   "file_extension": ".py",
   "mimetype": "text/x-python",
   "name": "python",
   "nbconvert_exporter": "python",
   "pygments_lexer": "ipython2",
   "version": "2.7.6"
  }
 },
 "nbformat": 4,
 "nbformat_minor": 5
}
